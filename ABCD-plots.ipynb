{
 "cells": [
  {
   "cell_type": "code",
   "execution_count": 1,
   "id": "548ab7fd",
   "metadata": {},
   "outputs": [],
   "source": [
    "# Import libraries\n",
    "import matplotlib.pyplot as plt\n",
    "import numpy as np\n",
    "import pandas as pd\n",
    "import seaborn as sns\n",
    "\n",
    "input_annotation_file = 'data/pop_norms.csv'\n",
    "df = pd.read_csv(input_annotation_file, header=0)"
   ]
  },
  {
   "cell_type": "code",
   "execution_count": 2,
   "id": "bf1352e3",
   "metadata": {},
   "outputs": [
    {
     "name": "stdout",
     "output_type": "stream",
     "text": [
      "Pearsons correlation: 0.903\n",
      "Pearsons correlation: 0.989\n",
      "Spearmans correlation: 0.915\n"
     ]
    }
   ],
   "source": [
    "# CSA and TM correlations\n",
    "from scipy.stats import pearsonr\n",
    "\n",
    "#df=df[df[\"TMT PRED AVG\"]<20]\n",
    "\n",
    "corr, _ = pearsonr(df['TMT PRED AVG filtered'], df['CSA PRED AVG w line'])\n",
    "print('Pearsons correlation: %.3f' % corr)\n",
    "\n",
    "corr, _ = pearsonr(df['TMT PRED AVG filtered'], df['TMT PRED AVG 90 filtered'])\n",
    "print('Pearsons correlation: %.3f' % corr)\n",
    "\n",
    "from scipy.stats import spearmanr\n",
    "corr, _ = spearmanr(df['TMT PRED AVG filtered'], df['CSA PRED AVG w line'])\n",
    "print('Spearmans correlation: %.3f' % corr)"
   ]
  },
  {
   "cell_type": "code",
   "execution_count": 3,
   "id": "fb2b8a6b",
   "metadata": {},
   "outputs": [],
   "source": [
    "df.loc[df.Age > 30, 'Age'] = 30"
   ]
  },
  {
   "cell_type": "markdown",
   "id": "efaf3204",
   "metadata": {},
   "source": [
    "## 1. Gender "
   ]
  },
  {
   "cell_type": "code",
   "execution_count": null,
   "id": "fdba78a0",
   "metadata": {},
   "outputs": [],
   "source": [
    "#plot general\n",
    "sns.set(rc={'figure.figsize':(16.7,6.27),'axes.facecolor':'white', 'figure.facecolor':'white'})\n",
    "sns.set_style(\"whitegrid\")\n",
    "df['Sex'] = df['Gender'].map({2:'Female',1:'Male'})\n",
    "sns.boxplot(x=\"Age\", y=\"TMT PRED AVG\", hue=\"Sex\", data=df, \n",
    "            showfliers=False,\n",
    "            palette=\"colorblind\", width=0.5).set_title(\"Biological gender wrt TMT n=\"+str(df.shape[0]))\n",
    "plt.savefig('data/abcd_plots/gender.png', dpi=300)"
   ]
  },
  {
   "cell_type": "code",
   "execution_count": null,
   "id": "366e6ed8",
   "metadata": {},
   "outputs": [],
   "source": [
    "#plot general\n",
    "sns.set(rc={'figure.figsize':(16.7,6.27),'axes.facecolor':'white', 'figure.facecolor':'white'})\n",
    "sns.set_style(\"whitegrid\")\n",
    "df['Sex'] = df['Gender'].map({2:'Female',1:'Male'})\n",
    "sns.boxplot(x=\"Age\", y=\"TMT PRED AVG filtered\", hue=\"Sex\", data=df,  \n",
    "            showfliers=False,\n",
    "            palette=\"colorblind\", width=0.5).set_title(\"Biological gender wrt TMT n=\"+str(df.shape[0]))\n",
    "plt.savefig('data/abcd_plots/gender.png', dpi=300)"
   ]
  },
  {
   "cell_type": "code",
   "execution_count": null,
   "id": "0146d138",
   "metadata": {},
   "outputs": [],
   "source": [
    "sns.set(rc={'figure.figsize':(6.27,6.27),'axes.facecolor':'white', 'figure.facecolor':'white'})\n",
    "sns.set_style(\"whitegrid\")\n",
    "df['Sex'] = df['Gender'].map({2:'Female',1:'Male'})\n",
    "\n",
    "sns.countplot(data=df, x=\"Age\", hue=\"Sex\",palette=\"colorblind\")\n",
    "plt.yticks(range(0,3200,100))\n"
   ]
  },
  {
   "cell_type": "markdown",
   "id": "7c9a76b0",
   "metadata": {},
   "source": [
    "## 2. Hormone Saliva Tests"
   ]
  },
  {
   "cell_type": "markdown",
   "id": "e5f64798",
   "metadata": {},
   "source": [
    "### Option 2.1 Generate data"
   ]
  },
  {
   "cell_type": "raw",
   "id": "d79ad4a5",
   "metadata": {},
   "source": [
    "input_annotation_file_xls = 'data/combined_abcd.xlsx'\n",
    "df_xls =pd.read_excel(open(input_annotation_file_xls, 'rb'),\n",
    "              sheet_name='abcd_hsss01') \n",
    "df_xls = df_xls.drop([0])\n",
    "\n",
    "list_hrm = []\n",
    "for idx in range(0, df_xls.shape[0]):\n",
    "    row_xls = df_xls.iloc[idx]\n",
    "    #print(idx, row_xls['subjectkey'])\n",
    "    key_id = row_xls['subjectkey'].split(\"_\")[0] + row_xls['subjectkey'].split(\"_\")[1]\n",
    "    for jdx in range(0, df.shape[0]):\n",
    "        row = df.iloc[jdx]\n",
    "        #print(key_id,row_xls['eventname'].replace(\"_\",\"\").lower(),row['ID'])    \n",
    "        if key_id in row['ID'] and row_xls['eventname'].replace(\"_\",\"\").lower() in row['ID'].lower():\n",
    "            print(key_id,row_xls['eventname'].replace(\"_\",\"\").lower(),row['ID'])    \n",
    "            list_hrm.append([key_id, \n",
    "                               row['Age'], \n",
    "                               row['Gender'], \n",
    "                               row_xls['hormone_scr_dhea_mean'],\n",
    "                             row_xls['hormone_scr_hse_mean'],\n",
    "                             row_xls['hormone_scr_ert_mean'],\n",
    "                               row['TMT PRED AVG w line']])    \n",
    "            break\n",
    "    if idx >=200:\n",
    "        break\n",
    "df_hrm = pd.DataFrame(list_hrm,columns=['id','Age','gender','DHEA','HSE','ERT','TMT PRED AVG w line'])\n",
    "df_hrm.to_csv(path_or_buf= \"data/ABCD-studies/hormone.csv\")"
   ]
  },
  {
   "cell_type": "markdown",
   "id": "14e11f13",
   "metadata": {},
   "source": [
    "### Option 2.2 Read data"
   ]
  },
  {
   "cell_type": "code",
   "execution_count": 4,
   "id": "08a69900",
   "metadata": {},
   "outputs": [],
   "source": [
    "df_hrm = pd.read_csv(\"data/ABCD-studies/abcd_hsss01.csv\", header=0)"
   ]
  },
  {
   "cell_type": "markdown",
   "id": "0be46a85",
   "metadata": {},
   "source": [
    "### Plot"
   ]
  },
  {
   "cell_type": "code",
   "execution_count": 5,
   "id": "a1a94991",
   "metadata": {},
   "outputs": [
    {
     "data": {
      "image/png": "[encoded data removed]",
      "text/plain": [
       "<Figure size 1670x627 with 1 Axes>"
      ]
     },
     "metadata": {},
     "output_type": "display_data"
    }
   ],
   "source": [
    "df_hrm['Above average DHEA'] = df_hrm['DHEA']>=df_hrm['DHEA'].mean()\n",
    "\n",
    "sns.set(rc={'figure.figsize':(16.7,6.27),'axes.facecolor':'white', 'figure.facecolor':'white'})\n",
    "sns.set_style(\"whitegrid\")\n",
    "sns.boxplot(x=\"Age\", y=\"TMT PRED AVG filtered\", hue=\"Above average DHEA\", \n",
    "            data=df_hrm, palette=\"colorblind\", width=0.5).set_title(\"Child Salimetrics hormone test DHEA n=\"+str(df_hrm.shape[0]))\n",
    "plt.savefig('data/abcd_plots/DHEA.png', dpi=300)"
   ]
  },
  {
   "cell_type": "markdown",
   "id": "ab4a4ac0",
   "metadata": {},
   "source": [
    "Normals for the children https://emedicine.medscape.com/article/2088870-overview?reg=1"
   ]
  },
  {
   "cell_type": "code",
   "execution_count": 6,
   "id": "66a62aa5",
   "metadata": {},
   "outputs": [
    {
     "data": {
      "image/png": "[encoded data removed]",
      "text/plain": [
       "<Figure size 627x627 with 1 Axes>"
      ]
     },
     "metadata": {},
     "output_type": "display_data"
    }
   ],
   "source": [
    "dict_dhea_norms = {\n",
    "    1:\n",
    "    {8:{'min':11,'max':120},\n",
    "      9:{'min':11,'max':120},\n",
    "      10:{'min':11,'max':120},\n",
    "      11:{'min':14,'max':323},\n",
    "      12:{'min':5.5,'max':(312+323)/2},\n",
    "      13:{'min':5.5,'max':312}},\n",
    "    \n",
    "    2:\n",
    "    {8:{'min':16,'max':96},\n",
    "      9:{'min':16,'max':96},\n",
    "      10:{'min':22,'max':184},\n",
    "      11:{'min':11,'max':296},\n",
    "      12:{'min':17,'max':343},\n",
    "      13:{'min':(17+57)/2,'max':(343+395)/2}\n",
    "      }\n",
    "}\n",
    "\n",
    "act_list2 = []\n",
    "for idx in range(0, df_hrm.shape[0]):\n",
    "    \n",
    "    dhea = df_hrm.iloc[idx]['DHEA']\n",
    "    gender =  df_hrm.iloc[idx]['gender']\n",
    "    age = df_hrm.iloc[idx]['Age']\n",
    "    first_q = dict_dhea_norms[gender][age]['min']\n",
    "    third_q = dict_dhea_norms[gender][age]['max']\n",
    "    #print(dhea,first_q,third_q)\n",
    "    \n",
    "    if first_q > dhea:\n",
    "        act_list2.append('<2.5%')\n",
    "    elif first_q < dhea < third_q:\n",
    "        act_list2.append('2.5%-97.5%')\n",
    "    elif dhea > third_q:\n",
    "        act_list2.append('97.5%>')\n",
    "    else:\n",
    "        act_list2.append(\"No data\")\n",
    "        \n",
    "df_hrm['DHEA Reference Range'] = act_list2\n",
    "df_hrm = df_hrm[df_hrm['DHEA Reference Range'] != \"No data\"]\n",
    "df_hrm['Sex'] = df_hrm['gender'].map({2:'Female',1:'Male'})\n",
    "\n",
    "sns.set(rc={'figure.figsize':(6.27,6.27),'axes.facecolor':'white', 'figure.facecolor':'white'})\n",
    "sns.set_style(\"whitegrid\")\n",
    "\n",
    "sns.boxplot(x=\"DHEA Reference Range\", y=\"TMT PRED AVG filtered\", #hue=\"HSE Quantiles\",\n",
    "            order=['<2.5%','2.5%-97.5%','97.5%>'], \n",
    "            data=df_hrm,\n",
    "            showfliers=False,\n",
    "            palette=\"colorblind\",\n",
    "            width=0.5).set_title(\"DHEA levels n=\"+str(df_hrm.shape[0]))\n",
    "plt.savefig('data/abcd_plots/dhea_norms.png', dpi=300)"
   ]
  },
  {
   "cell_type": "code",
   "execution_count": 7,
   "id": "060eddcd",
   "metadata": {},
   "outputs": [
    {
     "data": {
      "text/plain": [
       "(64.33815882661534, 10.28427346683354, 169.8556718137254)"
      ]
     },
     "execution_count": 7,
     "metadata": {},
     "output_type": "execute_result"
    }
   ],
   "source": [
    "ref = df_hrm[df_hrm['DHEA Reference Range']=='2.5%-97.5%']['DHEA'].mean()\n",
    "ref_25 = df_hrm[df_hrm['DHEA Reference Range']=='<2.5%']['DHEA'].mean()\n",
    "ref_97 = df_hrm[df_hrm['DHEA Reference Range']=='97.5%>']['DHEA'].mean()\n",
    "ref,ref_25,ref_97"
   ]
  },
  {
   "cell_type": "code",
   "execution_count": 46,
   "id": "b71d279e",
   "metadata": {},
   "outputs": [
    {
     "data": {
      "text/plain": [
       "PermutationTestResult(statistic=159.57139834689184, pvalue=1.0, null_distribution=array([-2.10148425,  7.20987772,  1.30962174, ...,  6.75659913,\n",
       "       -0.56732097, -7.26017488]))"
      ]
     },
     "execution_count": 46,
     "metadata": {},
     "output_type": "execute_result"
    }
   ],
   "source": [
    "from scipy.stats import permutation_test\n",
    "def statistic(x, y, axis):\n",
    "    return np.mean(x, axis=axis) - np.mean(y, axis=axis)\n",
    "res = permutation_test((list(df_hrm[df_hrm['DHEA Reference Range']=='97.5%>']['DHEA']),\n",
    "                       list(df_hrm[df_hrm['DHEA Reference Range']=='<2.5%']['DHEA'])), \n",
    "                       statistic, n_resamples=10000,\n",
    "                       vectorized=True, alternative='less',\n",
    "                       random_state=42)\n",
    "res"
   ]
  },
  {
   "cell_type": "code",
   "execution_count": 48,
   "id": "5332d3e8",
   "metadata": {},
   "outputs": [
    {
     "data": {
      "image/png": "[encoded data removed]",
      "text/plain": [
       "<Figure size 627x627 with 1 Axes>"
      ]
     },
     "metadata": {},
     "output_type": "display_data"
    }
   ],
   "source": [
    "import matplotlib.pyplot as plt\n",
    "plt.hist(res.null_distribution, bins=50)\n",
    "plt.title(\"Permutation distribution of test statistic\")\n",
    "plt.xlabel(\"Value of Statistic\")\n",
    "plt.ylabel(\"Frequency\")\n",
    "plt.show()"
   ]
  },
  {
   "cell_type": "code",
   "execution_count": null,
   "id": "5f7ce968",
   "metadata": {},
   "outputs": [],
   "source": [
    "df_hrm['DHEA Reference Range'].value_counts()"
   ]
  },
  {
   "cell_type": "code",
   "execution_count": null,
   "id": "6574351f",
   "metadata": {},
   "outputs": [],
   "source": [
    "import pandas as pd\n",
    "from scipy.stats import chisquare\n",
    "\n",
    "dict = {'2.5%-97.5%' : 0.95,\n",
    "        '97.5%>': 0.025,\n",
    "        '<2.5%' : .025}\n",
    "   \n",
    "# create series from dictionary\n",
    "nullProbs = pd.Series(dict)\n",
    "nullProbs\n",
    "# make a frequency table for the observed data\n",
    "observed = df_hrm['DHEA Reference Range'].value_counts()\n",
    "print(observed)\n",
    "\n",
    "# make a frequency table for our expected data, using the probabilities we specified above\n",
    "expected = nullProbs * sum(observed)\n",
    "print(expected)\n",
    "# run the test\n",
    "ans = chisquare(f_obs = observed, f_exp = expected)\n",
    "\n",
    "# make the output easier to read\n",
    "print(\"x2 = \", ans[0])\n",
    "print(\"p = \", ans[1])\n",
    "print(ans)\n",
    "# p-value < 0.05  suggests that the null hypothesis is probably not true and provides guidance to reject\n",
    "#the null hypothesis and accept the alternative hypothesis, i.e. that the groups probably differ.\n",
    "\n",
    "# A p-value > 0.05 would be interpreted by many as “not statistically significant,” meaning that \n",
    "# there was insufficient evidence to reject the null hypothesis and conclude that the groups are different. "
   ]
  },
  {
   "cell_type": "markdown",
   "id": "7bb26028",
   "metadata": {},
   "source": [
    "Of the 13256 participants in the experiment, 11437 participants had DHEA within 2.5%-97.5%, 1020 had\n",
    "75%>, and 799 had <25%. A chi-square goodness of fit test was conducted to test whether the probabilities of quantile were identical for all three quantiles (null hypothesis P(25%-75%)=0.5, P(75%>)=0.25, P(<25%)=0.25). The results were significant (x2(2)=6985.78, p = 0.0), suggesting that participants were not assigned to quantiles purely at random."
   ]
  },
  {
   "cell_type": "code",
   "execution_count": null,
   "id": "3f4d4a1a",
   "metadata": {},
   "outputs": [],
   "source": [
    "# plot growth with one patient\n",
    "# plot just baselines\n",
    "# stat significance test\n",
    "# try a couple in percentiles instead of TMT "
   ]
  },
  {
   "cell_type": "markdown",
   "id": "18fcf35b",
   "metadata": {},
   "source": [
    "https://pediatric.testcatalog.org/show/EEST "
   ]
  },
  {
   "cell_type": "code",
   "execution_count": null,
   "id": "bea34ea6",
   "metadata": {},
   "outputs": [],
   "source": [
    "df_hrm['Above average HSE'] = df_hrm['HSE']>=df_hrm['HSE'].mean()\n",
    "\n",
    "sns.set(rc={'figure.figsize':(16.7,6.27),'axes.facecolor':'white', 'figure.facecolor':'white'})\n",
    "sns.set_style(\"whitegrid\")\n",
    "sns.boxplot(x=\"Age\", y=\"TMT PRED AVG filtered\", hue=\"Above average HSE\", data=df_hrm, \n",
    "            palette=\"colorblind\", width=0.5).set_title(\"Child Salimetrics hormone test HSE n=\"+str(df_hrm.shape[0]))\n",
    "plt.savefig('data/abcd_plots/HSE.png', dpi=300)"
   ]
  },
  {
   "cell_type": "code",
   "execution_count": null,
   "id": "054b98c3",
   "metadata": {},
   "outputs": [],
   "source": [
    "dict_hse_norms = {\n",
    "    1:\n",
    "    {8:{'min':0,'max':13},\n",
    "      9:{'min':0,'max':13},\n",
    "      10:{'min':0,'max':14},\n",
    "      11:{'min':0,'max':15},\n",
    "      12:{'min':0,'max':16},\n",
    "      13:{'min':0,'max':26}},\n",
    "    \n",
    "    2:\n",
    "    {8:{'min':0,'max':20},\n",
    "      9:{'min':0,'max':22},\n",
    "      10:{'min':0,'max':24},\n",
    "      11:{'min':0,'max':60},\n",
    "      12:{'min':15,'max':85},\n",
    "      13:{'min':15,'max':85}\n",
    "      }\n",
    "}\n",
    "\n",
    "act_list2 = []\n",
    "for idx in range(0, df_hrm.shape[0]):\n",
    "    \n",
    "    hse = df_hrm.iloc[idx]['HSE']\n",
    "    gender =  df_hrm.iloc[idx]['gender']\n",
    "    age = df_hrm.iloc[idx]['Age']\n",
    "    #print(hse)\n",
    "    first_q = dict_hse_norms[gender][age]['min']\n",
    "    third_q = dict_hse_norms[gender][age]['max']\n",
    "\n",
    "    if first_q > hse:\n",
    "        act_list2.append('<25%')\n",
    "    elif first_q < hse < third_q:\n",
    "        act_list2.append('25%-75%')\n",
    "    elif hse > third_q:\n",
    "        act_list2.append('75%>')\n",
    "    else:\n",
    "        act_list2.append(\"No data\")\n",
    "        \n",
    "df_hrm['HSE Quantiles'] = act_list2\n",
    "df_hrm['Sex'] = df_hrm['gender'].map({2:'Female',1:'Male'})\n",
    "\n",
    "sns.set(rc={'figure.figsize':(6.27,6.27),'axes.facecolor':'white', 'figure.facecolor':'white'})\n",
    "sns.set_style(\"whitegrid\")\n",
    "\n",
    "sns.boxplot(x=\"HSE Quantiles\", y=\"TMT PRED AVG filtered\", #hue=\"HSE Quantiles\",\n",
    "            order=['<25%','25%-75%','75%>'], \n",
    "            data=df_hrm,\n",
    "            showfliers = False,\n",
    "            palette=\"colorblind\",\n",
    "            width=0.5).set_title(\"HSE levels n=\"+str(df_hrm.shape[0]))\n",
    "plt.savefig('data/abcd_plots/hse_norms.png', dpi=300)"
   ]
  },
  {
   "cell_type": "code",
   "execution_count": null,
   "id": "5ab7216e",
   "metadata": {},
   "outputs": [],
   "source": [
    "df_hrm['Above average ERT'] = df_hrm['ERT']>=df_hrm['ERT'].mean()\n",
    "#estradiol\n",
    "sns.set(rc={'figure.figsize':(16.7,6.27),'axes.facecolor':'white', 'figure.facecolor':'white'})\n",
    "sns.set_style(\"whitegrid\")\n",
    "sns.boxplot(x=\"Age\", y=\"TMT PRED AVG filtered\", hue=\"Above average ERT\", data=df_hrm, palette=\"colorblind\",\n",
    "            showfliers = False,\n",
    "            width=0.5).set_title(\"Child Salimetrics hormone test ERT n=\"+str(df_hrm.shape[0]))\n",
    "plt.savefig('data/abcd_plots/ERT.png', dpi=300)"
   ]
  },
  {
   "cell_type": "markdown",
   "id": "9a5c68ee",
   "metadata": {},
   "source": [
    "https://www.healthcare.uiowa.edu/path_handbook/handbook/test97.html"
   ]
  },
  {
   "cell_type": "code",
   "execution_count": null,
   "id": "4463f0ac",
   "metadata": {},
   "outputs": [],
   "source": [
    "#https://livhealth.com/testosterone-in-women-and-men/#:~:text=6%2D9%20years%20old%3A%20below,below%207%2D75%20ng%2Fdl\n",
    "dict_ert_norms = {\n",
    "    1:\n",
    "    {8:{'min':7,'max':20},\n",
    "      9:{'min':7,'max':(20+130)/2},\n",
    "      10:{'min':7,'max':130},\n",
    "      11:{'min':7,'max':(130+800)/2},\n",
    "      12:{'min':7,'max':800},\n",
    "      13:{'min':7,'max':800}},\n",
    "\n",
    "    \n",
    "    2:\n",
    "    {8:{'min':7,'max':20},\n",
    "      9:{'min':7,'max':(20+44)/2},\n",
    "      10:{'min':7,'max':44},\n",
    "      11:{'min':7,'max':(44+75)/2},\n",
    "      12:{'min':7,'max':75},\n",
    "      13:{'min':7,'max':75}\n",
    "      }\n",
    "}\n",
    "\n",
    "act_list2 = []\n",
    "for idx in range(0, df_hrm.shape[0]):\n",
    "    \n",
    "    ert = df_hrm.iloc[idx]['ERT']\n",
    "    gender =  df_hrm.iloc[idx]['gender']\n",
    "    age = df_hrm.iloc[idx]['Age']\n",
    "    #print(hse)\n",
    "    first_q = dict_ert_norms[gender][age]['min']\n",
    "    third_q = dict_ert_norms[gender][age]['max']\n",
    "\n",
    "    if first_q > ert:\n",
    "        act_list2.append('<2.5%')\n",
    "    elif third_q > ert > first_q:\n",
    "        act_list2.append('2.5%-97.5%')\n",
    "    elif ert > third_q:\n",
    "        act_list2.append('97.5%>')\n",
    "    else:\n",
    "        act_list2.append(\"No data\")\n",
    "        \n",
    "df_hrm['ERT Levels'] = act_list2\n",
    "df_hrm['Sex'] = df_hrm['gender'].map({2:'Female',1:'Male'})\n",
    "\n",
    "sns.set(rc={'figure.figsize':(6.27,6.27),'axes.facecolor':'white', 'figure.facecolor':'white'})\n",
    "sns.set_style(\"whitegrid\")\n",
    "\n",
    "sns.boxplot(x='ERT Levels', y=\"TMT PRED AVG filtered\", #hue=\"HSE Quantiles\",\n",
    "            order=['<2.5%','2.5%-97.5%','97.5%>'], \n",
    "            data=df_hrm,\n",
    "            showfliers = False,\n",
    "            palette=\"colorblind\",\n",
    "            width=0.5).set_title(\"ERT(testosterone) levels n=\"+str(df_hrm.shape[0]))\n",
    "plt.savefig('data/abcd_plots/hert_norms.png', dpi=300)"
   ]
  },
  {
   "cell_type": "code",
   "execution_count": null,
   "id": "78a3a14c",
   "metadata": {},
   "outputs": [],
   "source": [
    "import pandas as pd\n",
    "from scipy.stats import chisquare\n",
    "\n",
    "df_hrm = df_hrm[df_hrm['ERT Levels']!='No data']\n",
    "\n",
    "dict = {'2.5%-97.5%' : .95,\n",
    "        '97.5%>' : 0.025,\n",
    "        '<2.5%': 0.025}\n",
    "   \n",
    "# create series from dictionary\n",
    "nullProbs = pd.Series(dict)\n",
    "nullProbs\n",
    "# make a frequency table for the observed data\n",
    "observed = df_hrm['ERT Levels'].value_counts()\n",
    "print(observed)\n",
    "\n",
    "# make a frequency table for our expected data, using the probabilities we specified above\n",
    "expected = nullProbs * sum(observed)\n",
    "print(expected)\n",
    "# run the test\n",
    "ans = chisquare(f_obs = observed, f_exp = expected)\n",
    "\n",
    "print(ans)\n",
    "# make the output easier to read\n",
    "print(\"x2 = \", ans[0])\n",
    "print(\"p = \", ans[1])\n",
    "# if p<0.05 reject the null hypothesis"
   ]
  },
  {
   "cell_type": "markdown",
   "id": "a6b05ac9",
   "metadata": {},
   "source": [
    "## 3. Race"
   ]
  },
  {
   "cell_type": "raw",
   "id": "97edc7f0",
   "metadata": {},
   "source": [
    "input_annotation_file_xls = 'data/combined_abcd.xlsx'\n",
    "df_xls =pd.read_excel(open(input_annotation_file_xls, 'rb'),\n",
    "              sheet_name='multigrp_ethnic_id_meim01') \n",
    "df_xls = df_xls.drop([0])\n",
    "\n",
    "# 1= White/Caucasian; 2= Western European; 3= Eastern European; \n",
    "#4= Hispanic/Latino; 5= Black/African American;\n",
    "#6= Afro-Carribean/Indo-Carribbean/West Indian (i.e. Jamaica= Haiti= Trinidad= Guyana);\n",
    "#7= East Asian (i.e. China= Japan= Korea= Taiwan); 8= South Asian (i.e. India= Pakistan= Bangladesh;\n",
    "#9= Southeast Asian (i.e. Phillipines= Vietnam= Thailand); 10= American Indian/Alaska Native#;\n",
    "#11= Middle Eastern/North African; 12= Native Hawaiian or Pacific Islander; \n",
    "#13= Mixed Ethnicity; 14= Other Ethnicity; 0= None; 999= Don't know; 777= Refuse to answer\n",
    "\n",
    "# flip iteration\n",
    "list_etnic = []\n",
    "for idx in range(0, df.shape[0]):\n",
    "    row = df.iloc[idx]\n",
    "    for jdx in range(0, df_xls.shape[0]):\n",
    "        row_xls = df_xls.iloc[jdx]\n",
    "        try:\n",
    "            key_id = row_xls['subjectkey'].split(\"_\")[0] + row_xls['subjectkey'].split(\"_\")[1]\n",
    "            combined_race = \"\"\n",
    "            if key_id in row['ID']:\n",
    "                #print(key_id,row['ID'])\n",
    "                if row_xls['meim_ethnic_id'] ==1 or row_xls['meim_ethnic_id'] ==2 \\\n",
    "                    or row_xls['meim_ethnic_id'] ==3:\n",
    "                    combined_race='White/European'\n",
    "                elif row_xls['meim_ethnic_id'] == 4:\n",
    "                    combined_race='Latino'\n",
    "                elif row_xls['meim_ethnic_id'] == 5:\n",
    "                    combined_race='Black' \n",
    "                elif row_xls['meim_ethnic_id'] == 7 or row_xls['meim_ethnic_id'] == 8 or row_xls['meim_ethnic_id'] == 9:\n",
    "                    combined_race='Asian' \n",
    "                elif row_xls['meim_ethnic_id'] == 13:\n",
    "                    combined_race='Mixed' \n",
    "                elif row_xls['meim_ethnic_id'] == 14 or row_xls['meim_ethnic_id'] == 12 or row_xls['meim_ethnic_id'] ==10\\\n",
    "                    or row_xls['meim_ethnic_id'] == 11 or row_xls['meim_ethnic_id'] == 6:\n",
    "                    combined_race='Other' \n",
    "                        \n",
    "                if combined_race != \"\":  \n",
    "                    list_etnic.append([key_id, \n",
    "                                    row['Age'], \n",
    "                                    row['Gender'], \n",
    "                                    row_xls['meim_ethnic_id'],\n",
    "                                    combined_race,\n",
    "                                    row['TMT PRED AVG w line']])    \n",
    "                break\n",
    "        except:\n",
    "            continue\n",
    "    \n",
    "df_etnic = pd.DataFrame(list_etnic,columns=['id',\n",
    "                                            'Age',\n",
    "                                            'Gender',\n",
    "                                            \"Etnic id\",\n",
    "                                            'Race',\n",
    "                                            'TMT PRED AVG w line'])\n",
    "df_etnic.to_csv(path_or_buf= \"data/ABCD-studies/abcd_enticity.csv\")\n",
    "\n",
    "plt.clf()"
   ]
  },
  {
   "cell_type": "code",
   "execution_count": null,
   "id": "9ac3b70a",
   "metadata": {},
   "outputs": [],
   "source": [
    "df_etnic = pd.read_csv(\"data/ABCD-studies/abcd_enticity.csv\", header=0)"
   ]
  },
  {
   "cell_type": "code",
   "execution_count": null,
   "id": "1e04017d",
   "metadata": {},
   "outputs": [],
   "source": [
    "plt.clf()\n",
    "sns.set(rc={'figure.figsize':(16.7,6.27),'axes.facecolor':'white', 'figure.facecolor':'white'})\n",
    "sns.set_style(\"whitegrid\")\n",
    "sns.boxplot(x=\"Age\", y=\"TMT PRED AVG filtered\", hue=\"Race\", data=df_etnic, \n",
    "            showfliers = False,\n",
    "            palette=\"colorblind\", width=0.5).set_title(\"Race n=\"+str(df_etnic.shape[0]))\n",
    "\n",
    "plt.savefig('data/abcd_plots/race_mem.png', dpi=300)"
   ]
  },
  {
   "cell_type": "markdown",
   "id": "2f52aa1e",
   "metadata": {},
   "source": [
    "## 4. Household Income"
   ]
  },
  {
   "cell_type": "markdown",
   "id": "63fe2469",
   "metadata": {},
   "source": [
    "note: this is also interesting: a lot of records show income <5k per year. That makes me think how that could be possible; so therefore maybe parents didn't want to disclose their financial situation and just clicked the first option in the questionnare? "
   ]
  },
  {
   "cell_type": "raw",
   "id": "f69535cf",
   "metadata": {
    "scrolled": true
   },
   "source": [
    "input_annotation_file_xls = 'data/combined_abcd.xlsx'\n",
    "df_xls =pd.read_excel(open(input_annotation_file_xls, 'rb'),\n",
    "              sheet_name='abcd_lpds01') \n",
    "df_xls = df_xls.drop([0])\n",
    "\n",
    "list_etnic = []\n",
    "# tried to do a full match as in https://www.geeksforgeeks.org/join-pandas-dataframes-matching-by-substring/\n",
    "# but it takes much longer\n",
    "for idx in range(0, df_xls.shape[0]):\n",
    "    row_xls = df_xls.iloc[idx]\n",
    "    #print(idx, row_xls['subjectkey'])\n",
    "    key_id = row_xls['subjectkey'].split(\"_\")[0] + row_xls['subjectkey'].split(\"_\")[1]\n",
    "    for jdx in range(0, df.shape[0]):\n",
    "        row = df.iloc[jdx]\n",
    "        if key_id in row['ID']:\n",
    "            if not pd.isna(row_xls['demo_comb_income_v2_l']):\n",
    "                list_etnic.append([key_id, \n",
    "                               row['Age'], \n",
    "                               row['Gender'], \n",
    "                               float(row_xls['demo_comb_income_v2_l']),\n",
    "                               row['TMT PRED AVG w line']])    \n",
    "            break\n",
    "    if idx >=500:\n",
    "        break\n",
    "        \n",
    "df_etnic = pd.DataFrame(list_etnic,columns=['id','Age','gender','Total house income','TMT PRED AVG w line'])\n",
    "df_etnic.to_csv(path_or_buf= \"data/ABCD-studies/abcd_income.csv\")"
   ]
  },
  {
   "cell_type": "code",
   "execution_count": null,
   "id": "41ab392d",
   "metadata": {},
   "outputs": [],
   "source": [
    "df_etnic = pd.read_csv(\"data/ABCD-studies/abcdabcd_lpds01_income.csv\", header=0)"
   ]
  },
  {
   "cell_type": "code",
   "execution_count": null,
   "id": "ff410444",
   "metadata": {},
   "outputs": [],
   "source": [
    "#1 = Less than $5,000 ; \n",
    "#2 = $5,000 through $11,999 ;\n",
    "#3 = $12,000 through $15,999 ; \n",
    "#4 = $16,000 through $24,999 ; \n",
    "#5 = $25,000 through $34,999 ; \n",
    "#6 = $35,000 through $49,999 ; \n",
    "#7 = $50,000 through $74,999 ; \n",
    "#8 = $75,000 through $99,999 ; \n",
    "#9 = $100,000 through $199,999 ; \n",
    "#10 = $200,000 and greater ; \n",
    "# 999, Don't know ; 777, Refuse to answer\n",
    "df_etnic['Income Above $50,000'] = (df_etnic['Age']>=7) & (df_etnic['Total house income']<=10)\n",
    "     \n",
    "sns.set(rc={'figure.figsize':(16.7,6.27),'axes.facecolor':'white', 'figure.facecolor':'white'})\n",
    "sns.set_style(\"whitegrid\")\n",
    "sns.boxplot(x=\"Age\", y=\"TMT PRED AVG filtered\",hue=\"Income Above $50,000\", showfliers=False,\n",
    "            data=df_etnic, palette=\"colorblind\", width=0.5).set_title(\"Total house income n=\"+str(df_etnic.shape[0]))\n",
    "plt.savefig('data/abcd_plots/income.png', dpi=300)"
   ]
  },
  {
   "cell_type": "markdown",
   "id": "78cad4ab",
   "metadata": {},
   "source": [
    "## 5. Activity levels: internat_physical_activ01\n",
    "\n",
    "Note: foundsome mismatch between row names and row questions, so data might be not reliable. I don't see a lot of infomation on these plots and I think that the relationship is non-linear between physical activity levels and the TMT (eg its probably also depends on the nutrition status and genes)"
   ]
  },
  {
   "cell_type": "raw",
   "id": "ebd8ad5a",
   "metadata": {},
   "source": [
    "input_annotation_file_xls = 'data/combined_abcd.xlsx'\n",
    "df_xls =pd.read_excel(open(input_annotation_file_xls, 'rb'),\n",
    "              sheet_name='internat_physical_activ01') \n",
    "df_xls = df_xls.drop([0])\n",
    "\n",
    "def to_number(input_x):\n",
    "    if pd.isna(input_x):\n",
    "        return 0\n",
    "    else:\n",
    "        return float(input_x)\n",
    "    \n",
    "list_ph_act = []\n",
    "\n",
    "# Light total = ipaq_light_acts * (ipaq_light_acts_min/60 + ipaq_light_acts_hrs)\n",
    "# Moderate total = ipaq_mod_acts * (ipaq_mod_acts_hrs+ ipaq_mod_acts_min/60)\n",
    "# Vig total = ipaq_vig_acts * (ipaq_vig_acts_hrs + ipaq_mod_acts_min/60)\n",
    "# No activity = ipaq_inactive_hrs +ipaq_inactive_min /60\n",
    "\n",
    "for idx in range(0, df_xls.shape[0]):\n",
    "    row_xls = df_xls.iloc[idx]\n",
    "    #print(idx, row_xls['subjectkey'])\n",
    "    try:\n",
    "        key_id = row_xls['subjectkey'].split(\"_\")[0] + row_xls['subjectkey'].split(\"_\")[1]\n",
    "        for jdx in range(0, df.shape[0]):\n",
    "            row = df.iloc[jdx]\n",
    "            if key_id in row['ID'] and row_xls['eventname'].replace(\"_\",\"\").lower().replace(\"followupyarm1\",\"\") in row['ID']:\n",
    "                light = to_number(row_xls['ipaq_light_acts']) * (to_number(row_xls['ipaq_light_acts_min'])/60 + to_number(row_xls['ipaq_light_acts_hrs']))\n",
    "                moderate = to_number(row_xls['ipaq_mod_acts']) * (to_number(row_xls['ipaq_mod_acts_min'])/60 + to_number(row_xls['ipaq_mod_acts_hrs']))\n",
    "                vig = to_number(row_xls['ipaq_vig_acts']) * (to_number(row_xls['ipaq_mod_acts_min'])/60 + to_number(row_xls['ipaq_vig_acts_hrs']))\n",
    "                no_activity = (to_number(row_xls['ipaq_inactive_min'])/60 + to_number(row_xls['ipaq_inactive_hrs']))\n",
    "                activity_level = 3*vig + 2*moderate + light \n",
    "                list_ph_act.append([key_id, \n",
    "                                   row['Age'], \n",
    "                                   row['Gender'], \n",
    "                                    vig,\n",
    "                                    moderate,\n",
    "                                    light,\n",
    "                                    no_activity,\n",
    "                                    activity_level,\n",
    "                                   row['TMT PRED AVG w line']])    \n",
    "                break\n",
    "    except:\n",
    "        continue\n",
    "    if idx >=100:\n",
    "        break\n",
    "    \n",
    "df_phys = pd.DataFrame(list_ph_act,columns=['id','Age','gender','Vigorous',\n",
    "                                            'Moderate','Light','No activity',\"Activity level\",\n",
    "                                            'TMT PRED AVG w line'])\n",
    "df_phys.to_csv(path_or_buf= \"data/ABCD-studies/internat_physical_activ01.csv\")"
   ]
  },
  {
   "cell_type": "code",
   "execution_count": null,
   "id": "dcbca868",
   "metadata": {},
   "outputs": [],
   "source": [
    "df_phys = pd.read_csv(\"data/ABCD-studies/internat_physical_activ01.csv\", header=0)\n",
    "df_phys"
   ]
  },
  {
   "cell_type": "raw",
   "id": "64e8ca46",
   "metadata": {},
   "source": [
    "df_phys['Activity Levels2'] = df_phys['Light'] +3* df_phys['Vigorous']+2* df_phys['Moderate'] \n",
    "\n",
    "first_q = df_phys['Activity Levels2'].quantile([.25, .5, .75])[0.25]\n",
    "mean_q = df_phys['Activity Levels2'].quantile([.25, .5, .75])[0.5]\n",
    "third_q = df_phys['Activity Levels2'].quantile([.25, .5, .75])[0.75]\n",
    "\n",
    "act_list2 =[]\n",
    "for idx in range(0, df_phys.shape[0]):\n",
    "    row = df_phys.iloc[idx]['Activity Levels2']\n",
    "    if first_q > row:\n",
    "        act_list2.append('<25%')\n",
    "    elif mean_q > row > first_q:\n",
    "        act_list2.append('25%-50%')\n",
    "    elif third_q > row > mean_q:\n",
    "        act_list2.append('50%-75%')\n",
    "    elif row > third_q:\n",
    "        act_list2.append('75%>')\n",
    "    else:\n",
    "        act_list2.append(\"No data\")\n",
    "        \n",
    "df_phys['Activity Levels Quantiles'] = act_list2\n",
    "sns.set(rc={'figure.figsize':(16.7,6.27),'axes.facecolor':'white', 'figure.facecolor':'white'})\n",
    "sns.set_style(\"whitegrid\")\n",
    "sns.boxplot(x=\"Age\", y=\"TMT PRED AVG filtered\", hue=\"Activity Levels Quantiles\",\n",
    "            hue_order=['<25%','25%-50%','50%-75%','75%>'], data=df_phys,\n",
    "            palette=\"colorblind\", width=0.5).set_title(\"Child activity level n=\"+str(df_phys.shape[0]))\n",
    "\n",
    "plt.savefig('data/abcd_plots/activity_quantiles.png', dpi=300)     \n"
   ]
  },
  {
   "cell_type": "markdown",
   "id": "bbf69bb0",
   "metadata": {},
   "source": [
    "## 6. BMI vs TMT: abcd_ant01"
   ]
  },
  {
   "cell_type": "markdown",
   "id": "68eea02f",
   "metadata": {},
   "source": [
    "note: this one looks great! "
   ]
  },
  {
   "cell_type": "raw",
   "id": "c97ac2c5",
   "metadata": {},
   "source": [
    "input_annotation_file_xls = 'data/combined_abcd.xlsx'\n",
    "df_xls =pd.read_excel(open(input_annotation_file_xls, 'rb'),\n",
    "              sheet_name='abcd_ant01') \n",
    "df_xls = df_xls.drop([0])\n",
    "\n",
    "list_ant = []\n",
    "\n",
    "# tried to do a full match as in https://www.geeksforgeeks.org/join-pandas-dataframes-matching-by-substring/\n",
    "# but it takes much longer\n",
    "for idx in range(0, df_xls.shape[0]):\n",
    "    row_xls = df_xls.iloc[idx]\n",
    "    key_id = row_xls['subjectkey'].split(\"_\")[0] + row_xls['subjectkey'].split(\"_\")[1]\n",
    "    for jdx in range(0, df.shape[0]):\n",
    "        row = df.iloc[jdx]\n",
    "        #print( row['ID'])\n",
    "        if key_id in row['ID'] and row_xls['eventname'].replace(\"_\",\"\").lower() in row['ID']:\n",
    "            if not pd.isna(row_xls['anthro_1_height_in']) and not pd.isna(row_xls['anthroweight1lb']):\n",
    "                #print(idx, row_xls['subjectkey'], row_xls['eventname'])\n",
    "                list_ant.append([key_id, row_xls['eventname'].replace(\"_\",\"\").lower(),\n",
    "                                   row['Age'], \n",
    "                                   row['Gender'], \n",
    "                                   float(row_xls['anthro_1_height_in']), float(row_xls['anthroweight1lb']),\n",
    "                                    703 * row_xls['anthroweight1lb'] / row_xls['anthro_1_height_in']**2,\n",
    "                                   row['TMT PRED AVG w line']])    \n",
    "            break\n",
    "    if idx>1000:\n",
    "        break\n",
    "            \n",
    "df_ant = pd.DataFrame(list_ant,columns=['id',\"Visit\",'Age','gender','Height',\"Weight\",\"BMI\",'TMT PRED AVG w line'])\n",
    "#df_ant.to_csv(path_or_buf= \"data/ABCD-studies/abcd_bmi.csv\")"
   ]
  },
  {
   "cell_type": "raw",
   "id": "de7f5310",
   "metadata": {},
   "source": [
    "input_annotation_file_xls = 'data/combined_abcd.xlsx'\n",
    "df_xls_disorders =pd.read_excel(open(input_annotation_file_xls, 'rb'),\n",
    "              sheet_name='eating_disorders_p01') \n",
    "df_xls_disorders = df_xls_disorders.drop([0])\n",
    "# ksads_eatingdis_raw_359_p"
   ]
  },
  {
   "cell_type": "code",
   "execution_count": null,
   "id": "aa6890a7",
   "metadata": {},
   "outputs": [],
   "source": [
    "df_ant = pd.read_csv(\"data/ABCD-studies/abcd_bmi.csv\", header=0)\n",
    "#df_ant_w_estimate.to_csv(path_or_buf= \"data/ABCD-studies/abcd_bmi_w_estimate.csv\")"
   ]
  },
  {
   "cell_type": "code",
   "execution_count": null,
   "id": "e3631f04",
   "metadata": {},
   "outputs": [],
   "source": [
    "df_ant"
   ]
  },
  {
   "cell_type": "code",
   "execution_count": null,
   "id": "7f5df7f6",
   "metadata": {},
   "outputs": [],
   "source": [
    "first_q = df_ant['BMI'].quantile([.25, .5, .75])[0.25]\n",
    "mean_q = df_ant['BMI'].quantile([.25, .5, .75])[0.5]\n",
    "third_q = df_ant['BMI'].quantile([.25, .5, .75])[0.75]\n",
    "\n",
    "act_list2 = []\n",
    "for idx in range(0, df_ant.shape[0]):\n",
    "    row = df_ant.iloc[idx]['BMI']\n",
    "    if first_q > row:\n",
    "        act_list2.append('<25%, '+str(round(first_q,2)))\n",
    "    elif mean_q > row > first_q:\n",
    "        act_list2.append('25%-50%, '+ str(round(first_q,2)) + \"-\"+ str(round(mean_q,2)))\n",
    "    elif third_q > row > mean_q:\n",
    "        act_list2.append('50%-75%, '+ str(round(mean_q,2)) + \"-\"+ str(round(third_q,2)))\n",
    "    elif row > third_q:\n",
    "        act_list2.append('75%>, '+ str(round(third_q,2)))\n",
    "    else:\n",
    "        act_list2.append(\"No data\")\n",
    "        \n",
    "df_ant['BMI Quantiles'] = act_list2\n",
    "\n",
    "sns.set(rc={'figure.figsize':(16.7,6.27),'axes.facecolor':'white', 'figure.facecolor':'white'})\n",
    "sns.set_style(\"whitegrid\")\n",
    "\n",
    "sns.boxplot(x=\"Age\", y=\"TMT PRED AVG filtered\", hue=\"BMI Quantiles\",\n",
    "            hue_order=['<25%, '+ str(round(first_q,2)),\n",
    "                       '25%-50%, '+ str(round(first_q,2)) + \"-\"+ str(round(mean_q,2)),\n",
    "                       '50%-75%, '+ str(round(mean_q,2)) + \"-\"+ str(round(third_q,2)),\n",
    "                       '75%>, '+ str(round(third_q,2))], \n",
    "            data=df_ant, palette=\"colorblind\", width=0.5).set_title(\"BMI level n=\"+str(df_ant.shape[0]))\n",
    "plt.savefig('data/abcd_plots/bmi.png', dpi=300)"
   ]
  },
  {
   "cell_type": "markdown",
   "id": "91c22b1e",
   "metadata": {},
   "source": [
    "BMI norms according to CDC charts https://www.cdc.gov/healthyweight/assessing/bmi/childrens_bmi/about_childrens_bmi.html / the bmigerev.xsl file"
   ]
  },
  {
   "cell_type": "code",
   "execution_count": null,
   "id": "9d82f174",
   "metadata": {},
   "outputs": [],
   "source": []
  },
  {
   "cell_type": "code",
   "execution_count": null,
   "id": "e4b61094",
   "metadata": {},
   "outputs": [],
   "source": [
    "dict_bmi_norms = {\n",
    "    1:\n",
    "    {8:{'min':14.9,'max':17.3},\n",
    "      9:{'min':15.3,'max':17.9},\n",
    "      10:{'min':15.7,'max':18.6},\n",
    "      11:{'min':16.2,'max':19.3},\n",
    "      12:{'min':16.7,'max':20.0},\n",
    "      13:{'min':17.3,'max':20.8}},\n",
    "    \n",
    "    2:\n",
    "    {8:{'min':14.9,'max':17.6},\n",
    "      9:{'min':15.3,'max':18.3},\n",
    "      10:{'min':15.7,'max':19.0},\n",
    "      11:{'min':16.2,'max':19.8},\n",
    "      12:{'min':16.8,'max':20.6},\n",
    "      13:{'min':17.3,'max':21.3}\n",
    "      }\n",
    "}\n",
    "\n",
    "act_list2 = []\n",
    "for idx in range(0, df_ant.shape[0]):\n",
    "    bmi = df_ant.iloc[idx]['BMI']\n",
    "    gender =  df_ant.iloc[idx]['gender']\n",
    "    age = df_ant.iloc[idx]['Age']\n",
    "    \n",
    "    first_q = dict_bmi_norms[gender][age]['min']\n",
    "    third_q = dict_bmi_norms[gender][age]['max']\n",
    "\n",
    "    if first_q > bmi:\n",
    "        act_list2.append('<25%')\n",
    "    elif third_q > bmi > first_q:\n",
    "        act_list2.append('25%-75%')\n",
    "    elif bmi > third_q:\n",
    "        act_list2.append('75%>')\n",
    "    else:\n",
    "        act_list2.append(\"No data\")\n",
    "        \n",
    "df_ant['BMI Quantiles'] = act_list2\n",
    "df_ant['Sex'] = df_ant['gender'].map({2:'Female',1:'Male'})\n",
    "\n",
    "sns.set(rc={'figure.figsize':(16.7,6.27),'axes.facecolor':'white', 'figure.facecolor':'white'})\n",
    "sns.set_style(\"whitegrid\")\n",
    "\n",
    "sns.boxplot(x=\"Age\", y=\"TMT PRED AVG filtered\", hue=\"BMI Quantiles\",\n",
    "            hue_order=['<25%','25%-75%','75%>'], \n",
    "            data=df_ant,\n",
    "            palette=\"colorblind\",\n",
    "            width=0.5).set_title(\"BMI levels n=\"+str(df_ant.shape[0]))\n",
    "plt.savefig('data/abcd_plots/bmi.png', dpi=300)"
   ]
  },
  {
   "cell_type": "code",
   "execution_count": null,
   "id": "dda9b359",
   "metadata": {},
   "outputs": [],
   "source": [
    "sns.set(rc={'figure.figsize':(6.27,6.27),'axes.facecolor':'white', 'figure.facecolor':'white'})\n",
    "sns.set_style(\"whitegrid\")\n",
    "\n",
    "sns.boxplot(x=\"BMI Quantiles\", y=\"TMT PRED AVG filtered\", #hue=\"BMI Quantiles\",\n",
    "            order=['<25%','25%-75%','75%>'], \n",
    "            data=df_ant,\n",
    "            palette=\"colorblind\",\n",
    "            showfliers = False,\n",
    "            width=0.5).set_title(\"BMI levels n=\"+str(df_ant.shape[0]))\n",
    "plt.savefig('data/abcd_plots/bmi_no_age.png', dpi=300)"
   ]
  },
  {
   "cell_type": "code",
   "execution_count": null,
   "id": "ab4d4eb5",
   "metadata": {},
   "outputs": [],
   "source": [
    "import pandas as pd\n",
    "from scipy.stats import chisquare\n",
    "\n",
    "df_ant = df_ant[df_ant['BMI Quantiles']!='No data']\n",
    "\n",
    "dict = {'75%>' : 0.25,\n",
    "    '25%-75%' : .5,\n",
    "        '<25%': 0.25}\n",
    "   \n",
    "# create series from dictionary\n",
    "nullProbs = pd.Series(dict)\n",
    "nullProbs\n",
    "# make a frequency table for the observed data\n",
    "observed = df_ant['BMI Quantiles'].value_counts()\n",
    "print(observed)\n",
    "\n",
    "# make a frequency table for our expected data, using the probabilities we specified above\n",
    "expected = nullProbs * sum(observed)\n",
    "print(expected)\n",
    "# run the test\n",
    "ans = chisquare(f_obs = observed, f_exp = expected)\n",
    "\n",
    "print(ans)\n",
    "# make the output easier to read\n",
    "print(\"x2 = \", ans[0])\n",
    "print(\"p = \", ans[1])\n",
    "# if p<0.05 reject the null hypothesis"
   ]
  },
  {
   "cell_type": "code",
   "execution_count": null,
   "id": "3b2afd47",
   "metadata": {},
   "outputs": [],
   "source": [
    "#https://childrenswi.org/medical-care/adolescent-health-and-medicine/issues-and-concerns/adolescent-growth-and-development/normal-growth\n",
    "dict_height_norms = {\n",
    "    1:\n",
    "    {8:{'min':47,'max':54},\n",
    "      9:{'min':47,'max':54},\n",
    "      10:{'min':50,'max':59},\n",
    "      11:{'min':50,'max':59},\n",
    "      12:{'min':54,'max':64},\n",
    "      13:{'min':54,'max':64}},\n",
    "    \n",
    "    2:\n",
    "    {8:{'min':47,'max':54},\n",
    "      9:{'min':47,'max':54},\n",
    "      10:{'min':50,'max':59},\n",
    "      11:{'min':50,'max':59},\n",
    "      12:{'min':55,'max':64},\n",
    "      13:{'min':55,'max':64}\n",
    "      }\n",
    "}\n",
    "\n",
    "act_list2 = []\n",
    "for idx in range(0, df_ant.shape[0]):\n",
    "    height = df_ant.iloc[idx]['Height']\n",
    "    gender =  df_ant.iloc[idx]['gender']\n",
    "    age = df_ant.iloc[idx]['Age']\n",
    "    \n",
    "    first_q = dict_height_norms[gender][age]['min']\n",
    "    third_q = dict_height_norms[gender][age]['max']\n",
    "\n",
    "    if first_q > height:\n",
    "        act_list2.append('Low')\n",
    "    elif first_q < height < third_q:\n",
    "        act_list2.append('Median')\n",
    "    elif height > third_q:\n",
    "        act_list2.append('High')\n",
    "    else:\n",
    "        act_list2.append(\"No data\")\n",
    "        \n",
    "df_ant['Height Levels'] = act_list2\n",
    "df_ant['Sex'] = df_ant['gender'].map({2:'Female',1:'Male'})\n",
    "\n",
    "sns.set(rc={'figure.figsize':(6.27,6.27),'axes.facecolor':'white', 'figure.facecolor':'white'})\n",
    "sns.set_style(\"whitegrid\")\n",
    "\n",
    "sns.boxplot(x=\"Height Levels\", y=\"TMT PRED AVG filtered\",\n",
    "            order=['Low','Median','High'], \n",
    "            data=df_ant,\n",
    "            showfliers = False,\n",
    "            palette=\"colorblind\",\n",
    "            width=0.5).set_title(\"Height levels n=\"+str(df_ant.shape[0]))\n",
    "plt.savefig('data/abcd_plots/height_lelevs.png', dpi=300)"
   ]
  },
  {
   "cell_type": "code",
   "execution_count": null,
   "id": "70dc314c",
   "metadata": {},
   "outputs": [],
   "source": [
    "import pandas as pd\n",
    "from scipy.stats import chisquare\n",
    "\n",
    "df_ant = df_ant[df_ant['Height Levels']!='No data']\n",
    "\n",
    "dict = {'Low' : .025,\n",
    "        'Median' : 0.95,\n",
    "        'High': 0.025}\n",
    "   \n",
    "# create series from dictionary\n",
    "nullProbs = pd.Series(dict)\n",
    "nullProbs\n",
    "# make a frequency table for the observed data\n",
    "observed = df_ant['Height Levels'].value_counts()\n",
    "print(observed)\n",
    "\n",
    "# make a frequency table for our expected data, using the probabilities we specified above\n",
    "expected = nullProbs * sum(observed)\n",
    "\n",
    "# run the test\n",
    "ans = chisquare(f_obs = observed, f_exp = expected)\n",
    "\n",
    "print(ans)\n",
    "# make the output easier to read\n",
    "print(\"x2 = \", ans[0])\n",
    "print(\"p = \", ans[1])\n",
    "# if p<0.05 reject the null hypothesis"
   ]
  },
  {
   "cell_type": "code",
   "execution_count": null,
   "id": "38436162",
   "metadata": {},
   "outputs": [],
   "source": [
    "first_q = df_ant['Height'].quantile([.25, .5, .75])[0.25]\n",
    "mean_q = df_ant['Height'].quantile([.25, .5, .75])[0.5]\n",
    "third_q = df_ant['Height'].quantile([.25, .5, .75])[0.75]\n",
    "\n",
    "act_list2 = []\n",
    "for idx in range(0, df_ant.shape[0]):\n",
    "    row = df_ant.iloc[idx]['Height']\n",
    "    if first_q > row:\n",
    "        act_list2.append('<25%, '+str(round(first_q,2)))\n",
    "    elif mean_q > row > first_q:\n",
    "        act_list2.append('25%-50%, '+ str(round(first_q,2)) + \"-\"+ str(round(mean_q,2)))\n",
    "    elif third_q > row > mean_q:\n",
    "        act_list2.append('50%-75%, '+ str(round(mean_q,2)) + \"-\"+ str(round(third_q,2)))\n",
    "    elif row > third_q:\n",
    "        act_list2.append('75%>, '+ str(round(third_q,2)))\n",
    "    else:\n",
    "        act_list2.append(\"No data\")\n",
    "        \n",
    "df_ant['Height Quantiles'] = act_list2\n",
    "\n",
    "sns.set(rc={'figure.figsize':(16.7,6.27),'axes.facecolor':'white', 'figure.facecolor':'white'})\n",
    "sns.set_style(\"whitegrid\")\n",
    "\n",
    "sns.boxplot(x=\"Age\", y=\"TMT PRED AVG filtered\", hue=\"Height Quantiles\",\n",
    "            hue_order=['<25%, '+ str(round(first_q,2)),\n",
    "                       '25%-50%, '+ str(round(first_q,2)) + \"-\"+ str(round(mean_q,2)),\n",
    "                       '50%-75%, '+ str(round(mean_q,2)) + \"-\"+ str(round(third_q,2)),\n",
    "                       '75%>, '+ str(round(third_q,2))], \n",
    "            data=df_ant, palette=\"colorblind\", width=0.5).set_title(\"Height quantiles n=\"+str(df_ant.shape[0]))\n",
    "plt.savefig('data/abcd_plots/height_quantile.png', dpi=300)"
   ]
  },
  {
   "cell_type": "code",
   "execution_count": null,
   "id": "50b2a5fd",
   "metadata": {},
   "outputs": [],
   "source": []
  },
  {
   "cell_type": "code",
   "execution_count": null,
   "id": "e6413acc",
   "metadata": {},
   "outputs": [],
   "source": [
    "from scipy.stats import pearsonr\n",
    "corr, _ = pearsonr(df_ant['TMT PRED AVG filtered'], df_ant['BMI'])\n",
    "print('Pearsons correlation: %.3f' % corr)\n",
    "\n",
    "from scipy.stats import pearsonr\n",
    "corr, _ = pearsonr(df_ant['TMT PRED AVG filtered'], df_ant['BMI'])\n",
    "print('Pearsons correlation: %.3f' % corr)\n",
    "\n",
    "from scipy.stats import spearmanr\n",
    "corr, _ = spearmanr(df_ant['TMT PRED AVG filtered'], df_ant['BMI'])\n",
    "print('Spearmans correlation: %.3f' % corr)"
   ]
  },
  {
   "cell_type": "markdown",
   "id": "2fa11091",
   "metadata": {},
   "source": [
    "### Height-adjusted TMT and bmi-adjusted TMT "
   ]
  },
  {
   "cell_type": "code",
   "execution_count": null,
   "id": "7140d18e",
   "metadata": {},
   "outputs": [],
   "source": [
    "df_ant = pd.read_csv(\"data/ABCD-studies/abcd_bmi.csv\", header=0)"
   ]
  },
  {
   "cell_type": "raw",
   "id": "ded25874",
   "metadata": {},
   "source": [
    "#ksads_eatingdis_raw_359_p\n",
    "list_par_estimate = []\n",
    "for idx in range(0,df_ant.shape[0]):\n",
    "    row = df_ant.iloc[idx]\n",
    "    try:\n",
    "        for jdx in range(0, df_xls_disorders.shape[0]):\n",
    "            row_xls = df_xls_disorders.iloc[jdx]\n",
    "            key_id = row_xls['subjectkey'].split(\"_\")[0] + row_xls['subjectkey'].split(\"_\")[1]\n",
    "            #print(key_id, row['id'],row_xls['eventname'].replace(\"_\",\"\").lower(), row['Age'])\n",
    "            \n",
    "            if key_id in row['id'] and row_xls['eventname'].replace(\"_\",\"\").lower() in row['Age'] \\\n",
    "            and row_xls['ksads_eatingdis_raw_359_p']!=\"\":\n",
    "                #print(row['id'],row['Age'])\n",
    "                #feet:4inches:10weight:95\n",
    "                #print(row_xls['ksads_eatingdis_raw_359_p'])\n",
    "                height_ft  = int(row_xls['ksads_eatingdis_raw_359_p'].split(\"feet:\")[1].split(\"inches:\")[0]) * 12 + \\\n",
    "                int(row_xls['ksads_eatingdis_raw_359_p'].split(\"inches:\")[1].split(\"weight:\")[0])\n",
    "                \n",
    "                weight = int(row_xls['ksads_eatingdis_raw_359_p'].split(\"weight:\")[1])\n",
    "                list_par_estimate.append([row['id'],row['Visit'],height_ft,weight,\n",
    "                                         row['Age'],row['gender'],row['Height'],\n",
    "                                          row[\"Weight\"],row[\"BMI\"],row['TMT PRED AVG w line']])\n",
    "    except:\n",
    "        continue\n",
    "\n",
    "df_ant_w_estimate = pd.DataFrame(list_par_estimate,columns=['id',\"Visit\",\"Parent_est_ft\",\"Parent_est_weight\",\n",
    "                                                            'Age','gender','Height',\"Weight\",\n",
    "                                                            \"BMI\",'TMT PRED AVG w line'])\n"
   ]
  },
  {
   "cell_type": "code",
   "execution_count": null,
   "id": "ac8a6910",
   "metadata": {},
   "outputs": [],
   "source": [
    "df_ant_w_estimate = pd.read_csv(\"data/ABCD-studies/abcd_bmi_w_estimate.csv\", header=0)\n",
    "df_ant_w_estimate"
   ]
  },
  {
   "cell_type": "code",
   "execution_count": null,
   "id": "aa45dfe2",
   "metadata": {},
   "outputs": [],
   "source": [
    "df_ant['TMT-BMI adj'] = df_ant[\"TMT PRED AVG filtered\"]/df_ant['BMI']\n",
    "sns.set(rc={'figure.figsize':(16.7,6.27),'axes.facecolor':'white', 'figure.facecolor':'white'})\n",
    "sns.set_style(\"whitegrid\")\n",
    "\n",
    "#df_ant = df_ant[df_ant['TMT-BMI adj']<2.5]\n",
    "df_ant['Sex'] = df_ant['gender'].map({2:'Female',1:'Male'})\n",
    "sns.boxplot(x=\"Age\", y=\"TMT-BMI adj\",hue='Sex',showfliers=False,\n",
    "            data=df_ant, palette=\"colorblind\", width=0.5,).set_title(\"TMT BMI-adjusted n=\"+str(df_ant.shape[0]))\n",
    "#plt.savefig('data/abcd_plots/tmt-bmi.png', dpi=300)"
   ]
  },
  {
   "cell_type": "code",
   "execution_count": null,
   "id": "ff5ab620",
   "metadata": {},
   "outputs": [],
   "source": [
    "df_ant['TMT-Height adj'] = df_ant[\"TMT PRED AVG filtered\"]/df_ant['Height']\n",
    "sns.set(rc={'figure.figsize':(16.7,6.27),'axes.facecolor':'white', 'figure.facecolor':'white'})\n",
    "sns.set_style(\"whitegrid\")\n",
    "\n",
    "\n",
    "#df_ant = df_ant[df_ant['TMT-BMI adj']<2.5]\n",
    "df_ant['Sex'] = df_ant['gender'].map({2:'Female',1:'Male'})\n",
    "sns.boxplot(x=\"Age\", y=\"TMT-Height adj\",hue='Sex', showfliers=False,\n",
    "            data=df_ant, palette=\"colorblind\", width=0.5).set_title(\"TMT Height-adjusted n=\"+str(df_ant.shape[0]))\n",
    "plt.savefig('data/abcd_plots/tmt-height.png', dpi=300)"
   ]
  },
  {
   "cell_type": "code",
   "execution_count": null,
   "id": "bda7bf13",
   "metadata": {},
   "outputs": [],
   "source": [
    "df_ant[df_ant['TMT-BMI adj']>1.]"
   ]
  },
  {
   "cell_type": "markdown",
   "id": "3730dfd8",
   "metadata": {},
   "source": [
    "## 7. Steps activity levels abcd_fbwpas01"
   ]
  },
  {
   "cell_type": "markdown",
   "id": "1c1d4257",
   "metadata": {},
   "source": [
    "note: same story as activity levels; I think the relationship is much more complicated here"
   ]
  },
  {
   "cell_type": "raw",
   "id": "13605238",
   "metadata": {},
   "source": [
    "input_annotation_file_xls = 'data/combined_abcd.xlsx'\n",
    "df_xls =pd.read_excel(open(input_annotation_file_xls, 'rb'),\n",
    "              sheet_name='abcd_fbwpas01') \n",
    "df_xls = df_xls.drop([0])\n",
    "#df_xls = df_xls[df_xls['eventname'] == 'baseline_year_1_arm_1']\n",
    "\n",
    "list_steps = []\n",
    "# tried to do a full match as in https://www.geeksforgeeks.org/join-pandas-dataframes-matching-by-substring/\n",
    "# but it takes much longer\n",
    "for idx in range(0, df_xls.shape[0]):\n",
    "    row_xls = df_xls.iloc[idx]\n",
    "    key_id = row_xls['subjectkey'].split(\"_\")[0] + row_xls['subjectkey'].split(\"_\")[1]\n",
    "    for jdx in range(0, df.shape[0]):\n",
    "        row = df.iloc[jdx]\n",
    "        #print( row['ID'])\n",
    "        if key_id in row['ID'] and row_xls['eventname'].replace(\"_\",\"\").lower() in row['ID']::\n",
    "            if not pd.isna(row_xls['fit_ss_perday_totalsteps']):\n",
    "                #print(idx, row_xls['subjectkey'], row_xls['eventname'])\n",
    "                list_steps.append([key_id, \n",
    "                               row['Age'], \n",
    "                               row['Gender'], \n",
    "                               float(row_xls['fit_ss_wk_total_steps']),\n",
    "                               row['TMT PRED AVG w line']])    \n",
    "            break\n",
    "    if idx >=300:\n",
    "        break\n",
    "df_step = pd.DataFrame(list_steps,columns=['id','Age','Gender',\"Total steps\",'TMT PRED AVG w line'])\n",
    "df_step.to_csv(path_or_buf= \"data/ABCD-studies/abcd_steps.csv\")"
   ]
  },
  {
   "cell_type": "code",
   "execution_count": null,
   "id": "16a5de53",
   "metadata": {},
   "outputs": [],
   "source": [
    "df_step = pd.read_csv(\"data/ABCD-studies/abcd_steps.csv\", header=0)\n",
    "\n",
    "first_q = round(df_step['Total steps'].quantile([.25, .5, .75])[0.25],0)\n",
    "mean_q = round(df_step['Total steps'].quantile([.25, .5, .75])[0.5],0)\n",
    "third_q = round(df_step['Total steps'].quantile([.25, .5, .75])[0.75],0)\n",
    "\n",
    "act_list2 =[]\n",
    "for idx in range(0, df_step.shape[0]):\n",
    "    row = df_step.iloc[idx]['Total steps']\n",
    "    if first_q > row:\n",
    "        act_list2.append('<25%, '+str(round(first_q,0)))\n",
    "    elif mean_q > row > first_q:\n",
    "        act_list2.append('25%-50%, '+ str(round(first_q,0)) + \"-\"+ str(round(mean_q,0)))\n",
    "    elif third_q > row > mean_q:\n",
    "        act_list2.append('50%-75%, '+ str(round(mean_q,0)) + \"-\"+ str(round(third_q,0)))\n",
    "    elif row > third_q:\n",
    "        act_list2.append('75%>, '+ str(round(third_q,0)))\n",
    "    else:\n",
    "        act_list2.append(\"No data\")\n",
    "        \n",
    "df_step['Total steps Quantiles'] = act_list2\n",
    "\n",
    "sns.set(rc={'figure.figsize':(16.7,6.27),'axes.facecolor':'white', 'figure.facecolor':'white'})\n",
    "sns.set_style(\"whitegrid\")\n",
    "\n",
    "sns.boxplot(x=\"Age\", y=\"TMT PRED AVG filtered\", hue=\"Total steps Quantiles\",\n",
    "            hue_order=['<25%, '+ str(round(first_q,0)),\n",
    "                       '25%-50%, '+ str(round(first_q,0)) + \"-\"+ str(round(mean_q,0)),\n",
    "                       '50%-75%, '+ str(round(mean_q,0)) + \"-\"+ str(round(third_q,0)),\n",
    "                       '75%>, '+ str(round(third_q,0))], \n",
    "            data=df_step, palette=\"colorblind\", width=0.5).set_title(\"Total step level quantiles n=\"+str(df_step.shape[0]))\n",
    "plt.savefig('data/abcd_plots/step_quantiles.png', dpi=300)\n"
   ]
  },
  {
   "cell_type": "markdown",
   "id": "a83fa7d7",
   "metadata": {},
   "source": [
    "Boys to average 12,000 to 16,000 steps/day and girls to average 10,000 to 13,000 steps/day;  https://www.ncbi.nlm.nih.gov/pmc/articles/PMC3166269/\n",
    "acc to\n",
    "https://ijbnpa.biomedcentral.com/articles/10.1186/1479-5868-8-79 norm is between 7100-11000 steps/day\n"
   ]
  },
  {
   "cell_type": "code",
   "execution_count": null,
   "id": "1b1dab3c",
   "metadata": {},
   "outputs": [],
   "source": [
    "df_step = pd.read_csv(\"data/ABCD-studies/abcd_steps.csv\", header=0)\n",
    "\n",
    "df_step['Sex'] = df_step['Gender'].map({2:'Female',1:'Male'})\n",
    "\n",
    "healthy_male_lower =  7100#12000\n",
    "healthy_male_higher = 11000#16000\n",
    "\n",
    "healthy_female_lower = 7100#10000\n",
    "healthy_female_higher = 11000#13000\n",
    "\n",
    "steps_list =[]\n",
    "for idx in range(0, df_step.shape[0]):\n",
    "    row = df_step.iloc[idx]['Total steps']\n",
    "    gender = df_step.iloc[idx]['Gender']\n",
    "    \n",
    "    if healthy_male_lower > row and gender==1:\n",
    "        steps_list.append('Low steps')\n",
    "    elif healthy_male_lower < row < healthy_male_higher and gender==1: \n",
    "        steps_list.append('Normal steps')\n",
    "    elif row > healthy_male_higher and gender==1:\n",
    "        steps_list.append('High steps')\n",
    "        \n",
    "    elif healthy_female_lower > row and gender==2:\n",
    "        steps_list.append('Low steps')\n",
    "    elif healthy_female_lower < row < healthy_female_higher and gender==2: \n",
    "        steps_list.append('Normal steps')\n",
    "    elif row > healthy_female_higher and gender==2:\n",
    "        steps_list.append('High steps')\n",
    "        \n",
    "    else:\n",
    "        steps_list.append(\"No data\")\n",
    "        \n",
    "df_step['Step levels'] = steps_list\n",
    "\n",
    "sns.set(rc={'figure.figsize':(6.27,6.27),'axes.facecolor':'white', 'figure.facecolor':'white'})\n",
    "sns.set_style(\"whitegrid\")\n",
    "\n",
    "sns.boxplot(x=\"Sex\",\n",
    "            y=\"TMT PRED AVG filtered\",\n",
    "            hue='Step levels',\n",
    "            showfliers = False,\n",
    "            hue_order=['Low steps','Normal steps','High steps'], \n",
    "            data=df_step, palette=\"colorblind\", width=0.5).set_title(\"Step levels n=\"+str(df_step.shape[0]))\n",
    "plt.savefig('data/abcd_plots/dt_steps_levels1.png', dpi=300)\n",
    "\n"
   ]
  },
  {
   "cell_type": "code",
   "execution_count": null,
   "id": "3170859c",
   "metadata": {},
   "outputs": [],
   "source": [
    "\n",
    "sns.set(rc={'figure.figsize':(6.27,6.27),'axes.facecolor':'white', 'figure.facecolor':'white'})\n",
    "sns.set_style(\"whitegrid\")\n",
    "\n",
    "sns.boxplot(x='Step levels',\n",
    "            y=\"TMT PRED AVG filtered\",\n",
    "            #hue='Step levels',\n",
    "            showfliers = False,\n",
    "            order=['Low steps','Normal steps','High steps'], \n",
    "            data=df_step, palette=\"colorblind\", width=0.5).set_title(\"Step levels n=\"+str(df_step.shape[0]))\n",
    "plt.savefig('data/abcd_plots/dt_steps_levels2.png', dpi=300)\n"
   ]
  },
  {
   "cell_type": "markdown",
   "id": "2b4717eb",
   "metadata": {},
   "source": [
    "## 8. Calorical Intake (abcd_bkfs01)"
   ]
  },
  {
   "cell_type": "markdown",
   "id": "7c933488",
   "metadata": {},
   "source": [
    "note: also has data for 3 year visit, for simplicity just 2year visit; cannot find in the dicts what GI and GL stands for"
   ]
  },
  {
   "cell_type": "raw",
   "id": "bc412702",
   "metadata": {},
   "source": [
    "input_annotation_file_xls = 'data/combined_abcd.xlsx'\n",
    "df_xls =pd.read_excel(open(input_annotation_file_xls, 'rb'),\n",
    "              sheet_name='abcd_bkfs01') \n",
    "df_xls = df_xls.drop([0])\n",
    "\n",
    "df_2 = df.loc[df['ID'].str.contains(\"2year|3year\", case=False)]"
   ]
  },
  {
   "cell_type": "raw",
   "id": "df378940",
   "metadata": {},
   "source": [
    "list_cals = []\n",
    "\n",
    "#gi\n",
    "#gl\n",
    "#dt_kcal\n",
    "#dt_prot\n",
    "#dt_tfat\n",
    "#dt_carb\n",
    "#dt_fibe\n",
    "#dt_sug_t\n",
    "\n",
    "for idx in range(0, df_xls.shape[0]):\n",
    "    row_xls = df_xls.iloc[idx]\n",
    "    key_id = row_xls['subjectkey'].split(\"_\")[0] + row_xls['subjectkey'].split(\"_\")[1]\n",
    "    for jdx in range(0, df_2.shape[0]):\n",
    "        row = df_2.iloc[jdx]\n",
    "        #print(row_xls['eventname'])\n",
    "        if key_id in row['ID'] and '3_year' in row_xls['eventname']:\n",
    "            if not pd.isna(row_xls['bkfs_dt_kcal']):\n",
    "                #print(idx, row_xls['subjectkey'], row_xls['eventname'])\n",
    "                list_cals.append([key_id, \n",
    "                               row['Age'], \n",
    "                               row['Gender'], \n",
    "                               row_xls['bkfs_gi'], row_xls['bkfs_gl'],row_xls['bkfs_dt_kcal'],\n",
    "                               row['TMT PRED AVG w line']])    \n",
    "            break\n",
    "            \n",
    "    if idx >=300:\n",
    "        break\n",
    "df_cals = pd.DataFrame(list_cals,columns=['id','Age','Gender',\"GI\",\"GL\",\"Dt_kcal\",'TMT PRED AVG w line'])\n",
    "df_cals.to_csv(path_or_buf= \"data/ABCD-studies/abcd_cals.csv\")"
   ]
  },
  {
   "cell_type": "code",
   "execution_count": null,
   "id": "7f4d5310",
   "metadata": {},
   "outputs": [],
   "source": [
    "df_cals = pd.read_csv(\"data/ABCD-studies/abcd_cals.csv\", header=0)"
   ]
  },
  {
   "cell_type": "code",
   "execution_count": null,
   "id": "c2e370c4",
   "metadata": {
    "scrolled": false
   },
   "outputs": [],
   "source": [
    "mean_cal=str(round(df_cals['Dt_kcal'].mean(),2))\n",
    "df_cals[\"Above average Dt_kcal level, mean=\"+mean_cal+\" kcal\"] = df_cals['Dt_kcal']>=df_cals['Dt_kcal'].mean()\n",
    "\n",
    "sns.set(rc={'figure.figsize':(12.7,6.27),'axes.facecolor':'white', 'figure.facecolor':'white'})\n",
    "sns.set_style(\"whitegrid\")\n",
    "\n",
    "sns.boxplot(x=\"Age\", y=\"TMT PRED AVG filtered\", hue=\"Above average Dt_kcal level, mean=\"+mean_cal+\" kcal\", \n",
    "            data=df_cals, \n",
    "            palette=\"colorblind\", width=0.5).set_title(\"Child Dt_kcal level n=\"+str(df_cals.shape[0]))\n",
    "plt.savefig('data/abcd_plots/dt_kal.png', dpi=300)\n"
   ]
  },
  {
   "cell_type": "markdown",
   "id": "6d639c5e",
   "metadata": {},
   "source": [
    "According to dietary reccomendations, healthy child kcal/d intake for range 9-13 years Female 1600 kcal/d, Male 1800 kcal/d https://www.heart.org/en/healthy-living/healthy-eating/eat-smart/nutrition-basics/dietary-recommendations-for-healthy-children\n",
    "https://www.healthychildren.org/English/healthy-living/nutrition/Pages/Energy-In-Recommended-Food-Drink-Amounts-for-Children.aspx\n",
    "\n",
    "But it also depends on the activity levels"
   ]
  },
  {
   "cell_type": "code",
   "execution_count": 49,
   "id": "db805013",
   "metadata": {},
   "outputs": [
    {
     "data": {
      "image/png": "[encoded data removed]",
      "text/plain": [
       "<Figure size 627x627 with 1 Axes>"
      ]
     },
     "metadata": {},
     "output_type": "display_data"
    }
   ],
   "source": [
    "df_cals = pd.read_csv(\"data/ABCD-studies/abcd_cals.csv\", header=0)\n",
    "df_cals['Sex'] = df_cals['Gender'].map({2:'Female',1:'Male'})\n",
    "\n",
    "\n",
    "healthy_male_lower = 1600\n",
    "healthy_male_higher = 2600\n",
    "\n",
    "healthy_female_lower = 1400\n",
    "healthy_female_higher = 2200\n",
    "\n",
    "cals_list =[]\n",
    "for idx in range(0, df_cals.shape[0]):\n",
    "    row = df_cals.iloc[idx]['Dt_kcal']\n",
    "    gender = df_cals.iloc[idx]['Gender']\n",
    "    \n",
    "    if healthy_male_lower > row and gender==1:\n",
    "        cals_list.append('Low kcal/d')\n",
    "    elif healthy_male_lower < row < healthy_male_higher and gender==1: \n",
    "        cals_list.append('Normal kcal/d')\n",
    "    elif row > healthy_male_higher and gender==1:\n",
    "        cals_list.append('High kcal/d')\n",
    "        \n",
    "    elif healthy_female_lower > row and gender==2:\n",
    "        cals_list.append('Low kcal/d')\n",
    "    elif healthy_female_lower < row < healthy_female_higher and gender==2: \n",
    "        cals_list.append('Normal kcal/d')\n",
    "    elif row > healthy_female_higher and gender==2:\n",
    "        cals_list.append('High kcal/d')\n",
    "        \n",
    "    else:\n",
    "        cals_list.append(\"No data\")\n",
    "        \n",
    "df_cals['kcal/d levels'] = cals_list\n",
    "\n",
    "sns.set(rc={'figure.figsize':(6.27,6.27),'axes.facecolor':'white', 'figure.facecolor':'white'})\n",
    "sns.set_style(\"whitegrid\")\n",
    "\n",
    "sns.boxplot(x=\"Sex\",\n",
    "            y=\"TMT PRED AVG filtered\",\n",
    "            hue='kcal/d levels',\n",
    "            hue_order=['Low kcal/d','Normal kcal/d','High kcal/d'], \n",
    "            data=df_cals, palette=\"colorblind\", width=0.5).set_title(\"kcal/d levels n=\"+str(df_cals.shape[0]))\n",
    "plt.savefig('data/abcd_plots/dt_cals_levels.png', dpi=300)\n"
   ]
  },
  {
   "cell_type": "code",
   "execution_count": 50,
   "id": "7a7c43c4",
   "metadata": {},
   "outputs": [
    {
     "data": {
      "image/png": "[encoded data removed]",
      "text/plain": [
       "<Figure size 627x627 with 1 Axes>"
      ]
     },
     "metadata": {},
     "output_type": "display_data"
    }
   ],
   "source": [
    "sns.set(rc={'figure.figsize':(6.27,6.27),'axes.facecolor':'white', 'figure.facecolor':'white'})\n",
    "sns.set_style(\"whitegrid\")\n",
    "\n",
    "sns.boxplot(x='kcal/d levels',\n",
    "            y=\"TMT PRED AVG filtered\",\n",
    "            #hue='kcal/d levels',\n",
    "            showfliers=False,\n",
    "            order=['Low kcal/d','Normal kcal/d','High kcal/d'], \n",
    "            data=df_cals, palette=\"colorblind\", width=0.5).set_title(\"kcal/d levels n=\"+str(df_cals.shape[0]))\n",
    "plt.savefig('data/abcd_plots/dt_cals_levels2.png', dpi=300)\n"
   ]
  },
  {
   "cell_type": "code",
   "execution_count": 57,
   "id": "b5849bcb",
   "metadata": {},
   "outputs": [
    {
     "data": {
      "text/plain": [
       "9.999000099990002e-05"
      ]
     },
     "execution_count": 57,
     "metadata": {},
     "output_type": "execute_result"
    }
   ],
   "source": [
    "from scipy.stats import permutation_test\n",
    "def statistic(x, y, axis):\n",
    "    return np.mean(x, axis=axis) - np.mean(y, axis=axis)\n",
    "res = permutation_test((list(df_cals[df_cals['kcal/d levels']=='Low kcal/d']['Dt_kcal']),\n",
    "                       list(df_cals[df_cals['kcal/d levels']=='High kcal/d']['Dt_kcal'])), \n",
    "                       statistic, n_resamples=10000,\n",
    "                       vectorized=True, alternative='less',\n",
    "                       random_state=42)\n",
    "res.pvalue\n",
    "#Since p-value < alpha, we can reject the null hypothesis that the two samples come from the same distribution."
   ]
  },
  {
   "cell_type": "code",
   "execution_count": 55,
   "id": "989f0483",
   "metadata": {},
   "outputs": [
    {
     "name": "stdout",
     "output_type": "stream",
     "text": [
      "6.493597159999215e-302\n"
     ]
    }
   ],
   "source": [
    "from scipy.stats import ttest_ind\n",
    "res_asymptotic = ttest_ind(list(df_cals[df_cals['kcal/d levels']=='Low kcal/d']['Dt_kcal']),\n",
    "                       list(df_cals[df_cals['kcal/d levels']=='High kcal/d']['Dt_kcal']),\n",
    "                           alternative='less')\n",
    "print(res_asymptotic.pvalue)"
   ]
  },
  {
   "cell_type": "code",
   "execution_count": null,
   "id": "3a1080ef",
   "metadata": {},
   "outputs": [],
   "source": [
    "import pandas as pd\n",
    "from scipy.stats import chisquare\n",
    "\n",
    "df_cals = df_cals[df_cals['kcal/d levels']!='No data']\n",
    "\n",
    "dict = {'Low kcal/d' : .025,\n",
    "        'Normal kcal/d' : 0.95,\n",
    "        'High kcal/d': 0.025}\n",
    "   \n",
    "# create series from dictionary\n",
    "nullProbs = pd.Series(dict)\n",
    "nullProbs\n",
    "# make a frequency table for the observed data\n",
    "observed = df_cals['kcal/d levels'].value_counts()\n",
    "print(observed)\n",
    "\n",
    "# make a frequency table for our expected data, using the probabilities we specified above\n",
    "expected = nullProbs * sum(observed)\n",
    "print(expected)\n",
    "\n",
    "# run the test\n",
    "ans = chisquare(f_obs = observed, f_exp = expected)\n",
    "\n",
    "print(ans)\n",
    "# make the output easier to read\n",
    "print(\"x2 = \", ans[0])\n",
    "print(\"p = \", ans[1])\n",
    "# if p<0.05 reject the null hypothesis"
   ]
  },
  {
   "cell_type": "markdown",
   "id": "aa385e5c",
   "metadata": {},
   "source": [
    "## 9. Blood Hemoglobin and Cholesterol abcd_ybd01"
   ]
  },
  {
   "cell_type": "raw",
   "id": "432335a9",
   "metadata": {},
   "source": [
    "input_annotation_file_xls = 'data/combined_abcd.xlsx'\n",
    "df_xls =pd.read_excel(open(input_annotation_file_xls, 'rb'),\n",
    "              sheet_name='abcd_ybd01') \n",
    "df_xls = df_xls.drop([0])\n",
    "#blood was drawn only at 2yr visit\n",
    "df_2 = df.loc[df['ID'].str.contains(\"2year\", case=False)]\n",
    "\n",
    "list_blood = []\n",
    "for idx in range(0, df_xls.shape[0]):\n",
    "    row_xls = df_xls.iloc[idx]\n",
    "    key_id = row_xls['subjectkey'].split(\"_\")[0] + row_xls['subjectkey'].split(\"_\")[1]\n",
    "    for jdx in range(0, df_2.shape[0]):\n",
    "        row = df_2.iloc[jdx]\n",
    "        #print(row['ID'])\n",
    "        if key_id in row['ID']:\n",
    "            if not pd.isna(row_xls['biospec_blood_hemoglobin']):\n",
    "                #print(idx, row_xls['subjectkey'], row_xls['eventname'])\n",
    "                list_blood.append([key_id, \n",
    "                               row['Age'], \n",
    "                               row['Gender'], \n",
    "                               row_xls['biospec_blood_hemoglobin'],\n",
    "                               row_xls['biospec_blood_cholesterol'],\n",
    "                               row_xls['biospec_blood_hdl_cholesterol'],\n",
    "                               row['TMT PRED AVG w line']])    \n",
    "            break\n",
    "    if idx >=500:\n",
    "        break\n",
    "        \n",
    "df_blood = pd.DataFrame(list_blood,columns=['id','Age','Gender',\n",
    "                                            \"Hemoglobin\",\"Cholesterol\",\"HDL Cholesterol\",\n",
    "                                            'TMT PRED AVG w line'])\n",
    "df_blood.to_csv(path_or_buf= \"data/ABCD-studies/abcd_blood.csv\")"
   ]
  },
  {
   "cell_type": "code",
   "execution_count": null,
   "id": "55fad86e",
   "metadata": {},
   "outputs": [],
   "source": [
    "df_blood = pd.read_csv(\"data/ABCD-studies/abcd_blood.csv\", header=0)\n",
    "df_blood\n",
    "\n",
    "df_blood[\"Above average Cholesterol level, mean=\"+str(round(df_blood['Cholesterol'].mean(),2))] = df_blood['Cholesterol']>=df_blood['Cholesterol'].mean()\n",
    "\n",
    "sns.set(rc={'figure.figsize':(16.7,6.27),'axes.facecolor':'white', 'figure.facecolor':'white'})\n",
    "sns.set_style(\"whitegrid\")\n",
    "sns.boxplot(x=\"Age\", y=\"TMT PRED AVG filtered\", hue=\"Above average Cholesterol level, mean=\"+str(round(df_blood['Cholesterol'].mean(),2)), data=df_blood, \n",
    "            palette=\"colorblind\", width=0.5).set_title(\"Child Cholesterol level n=\"+str(df_blood.shape[0]))\n",
    "plt.savefig('data/abcd_plots/dt_cholester.png', dpi=300)"
   ]
  },
  {
   "cell_type": "markdown",
   "id": "98566c38",
   "metadata": {},
   "source": [
    "HDL Cholesterol in healthy kids younger <18 should be more than 45 mg/dl; non-HDL <120mg/dL https://medlineplus.gov/highcholesterolinchildrenandteens.html"
   ]
  },
  {
   "cell_type": "code",
   "execution_count": null,
   "id": "694530a8",
   "metadata": {},
   "outputs": [],
   "source": [
    "df_blood = pd.read_csv(\"data/ABCD-studies/abcd_blood.csv\", header=0)\n",
    "df_blood\n",
    "\n",
    "df_blood[\"Above normal non-HDL Cholesterol level, 120mg/dL>\"] = df_blood['Cholesterol']>=120\n",
    "\n",
    "sns.set(rc={'figure.figsize':(6.27,6.27),'axes.facecolor':'white', 'figure.facecolor':'white'})\n",
    "sns.set_style(\"whitegrid\")\n",
    "sns.boxplot(x=\"Above normal non-HDL Cholesterol level, 120mg/dL>\",\n",
    "            y=\"TMT PRED AVG filtered\",# hue=\"Above normal non-HDL Cholesterol level, 120mg/dL>\",\n",
    "            data=df_blood, \n",
    "            showfliers = False,\n",
    "            palette=\"colorblind\", width=0.5).set_title(\"Child non-HDL Cholesterol level n=\"+str(df_blood.shape[0]))\n",
    "plt.savefig('data/abcd_plots/dt_cholester_dm.png', dpi=300)"
   ]
  },
  {
   "cell_type": "code",
   "execution_count": null,
   "id": "d7461a5e",
   "metadata": {},
   "outputs": [],
   "source": [
    "df_blood = pd.read_csv(\"data/ABCD-studies/abcd_blood.csv\", header=0)\n",
    "df_blood\n",
    "\n",
    "df_blood[\"Below normal HDL Cholesterol level, <45/dL\"] = df_blood['HDL Cholesterol']<=45\n",
    "\n",
    "sns.set(rc={'figure.figsize':(16.7,6.27),'axes.facecolor':'white', 'figure.facecolor':'white'})\n",
    "sns.set_style(\"whitegrid\")\n",
    "sns.boxplot(x=\"Age\", y=\"TMT PRED AVG filtered\", hue=\"Below normal HDL Cholesterol level, <45/dL\", data=df_blood, \n",
    "            palette=\"colorblind\", width=0.5).set_title(\"Child HDL Cholesterol level n=\"+str(df_blood.shape[0]))\n",
    "plt.savefig('data/abcd_plots/dt_cholester_dm_hdl.png', dpi=300)"
   ]
  },
  {
   "cell_type": "markdown",
   "id": "1781f9b1",
   "metadata": {},
   "source": [
    "According to medscape, avg hemoglobin levels in kids 6-18 years: 10-15.5 g/dL\n",
    "https://emedicine.medscape.com/article/2085614-overview#:~:text=6%20months%2D1%20year%3A%209.5,%3A%2010%2D15.5%20g%2FdL"
   ]
  },
  {
   "cell_type": "code",
   "execution_count": null,
   "id": "b902418c",
   "metadata": {},
   "outputs": [],
   "source": [
    "mean_hb_lower = 10\n",
    "mean_hb_higher = 15.5\n",
    "df_blood[\"Above average Hemoglobin level, mean=\"+str(round(df_blood['Hemoglobin'].mean(),2))] = df_blood['Hemoglobin']>=df_blood['Hemoglobin'].mean()\n",
    "\n",
    "sns.set(rc={'figure.figsize':(16.7,6.27),'axes.facecolor':'white', 'figure.facecolor':'white'})\n",
    "sns.set_style(\"whitegrid\")\n",
    "sns.boxplot(x=\"Age\", y=\"TMT PRED AVG filtered\", hue=\"Above average Hemoglobin level, mean=\"+str(round(df_blood['Hemoglobin'].mean(),2)),\n",
    "            data=df_blood,\n",
    "            palette=\"colorblind\", width=0.5).set_title(\"Child Hemoglobin level n=\"+str(df_blood.shape[0]))\n",
    "plt.savefig('data/abcd_plots/dt_hemoglobin.png', dpi=300)"
   ]
  },
  {
   "cell_type": "code",
   "execution_count": null,
   "id": "6870ab81",
   "metadata": {},
   "outputs": [],
   "source": [
    "df_blood = pd.read_csv(\"data/ABCD-studies/abcd_blood.csv\", header=0)\n",
    "\n",
    "first_q = 10.0\n",
    "third_q = 15.5\n",
    "\n",
    "hb_list =[]\n",
    "for idx in range(0, df_blood.shape[0]):\n",
    "    row = df_blood.iloc[idx]['Hemoglobin']\n",
    "    #print(row)\n",
    "    if first_q > row:\n",
    "        hb_list.append('<10 g/dL')\n",
    "    elif first_q < row< third_q: \n",
    "        hb_list.append('10-15.5 g/dL')\n",
    "    elif row > third_q:\n",
    "        hb_list.append('15.5 g/dL>')\n",
    "    else:\n",
    "        hb_list.append(\"No data\")\n",
    "        \n",
    "df_blood['Hb levels'] = hb_list\n",
    "df_blood = df_blood[df_blood['Hb levels']!='No data']\n",
    "sns.set(rc={'figure.figsize':(6.27,6.27),'axes.facecolor':'white', 'figure.facecolor':'white'})\n",
    "sns.set_style(\"whitegrid\")\n",
    "\n",
    "sns.boxplot(x=\"Hb levels\",\n",
    "            y=\"TMT PRED AVG filtered\",\n",
    "            \n",
    "            showfliers = False,\n",
    "            #hue=\"Hb levels\",\n",
    "            order=['<10 g/dL',\n",
    "                       '10-15.5 g/dL',\n",
    "                       '15.5 g/dL>'], \n",
    "            data=df_blood, palette=\"colorblind\", width=0.5).set_title(\"Hemoglobin levels n=\"+str(df_blood.shape[0]))\n",
    "plt.savefig('data/abcd_plots/dt_hemoglobin_levels.png', dpi=300)\n"
   ]
  },
  {
   "cell_type": "code",
   "execution_count": null,
   "id": "79143d65",
   "metadata": {},
   "outputs": [],
   "source": [
    "import pandas as pd\n",
    "from scipy.stats import chisquare\n",
    "\n",
    "dict = {'10-15.5 g/dL' : 0.982,\n",
    "        '15.5 g/dL>': 0.014,\n",
    "        '<10 g/dL' : .004}\n",
    "   \n",
    "# create series from dictionary\n",
    "nullProbs = pd.Series(dict)\n",
    "nullProbs\n",
    "# make a frequency table for the observed data\n",
    "observed = df_blood['Hb levels'].value_counts()\n",
    "print(observed)\n",
    "\n",
    "# make a frequency table for our expected data, using the probabilities we specified above\n",
    "expected = nullProbs * sum(observed)\n",
    "print(expected)\n",
    "# run the test\n",
    "ans = chisquare(f_obs = observed, f_exp = expected)\n",
    "\n",
    "# make the output easier to read\n",
    "print(\"x2 = \", ans[0])\n",
    "print(\"p = \", ans[1])\n",
    "# p-value < 0.05 \"statistically significant\"\n",
    "# suggests that the null hypothesis is probably not true and provides guidance to reject\n",
    "#the null hypothesis and accept the alternative hypothesis, i.e. that the groups probably differ.\n",
    "\n",
    "# A p-value > 0.05 would be interpreted by many as “not statistically significant,” meaning that \n",
    "# there was insufficient evidence to reject the null hypothesis and conclude that the groups are different. "
   ]
  },
  {
   "cell_type": "markdown",
   "id": "8b66c133",
   "metadata": {},
   "source": [
    "## Head CRM"
   ]
  },
  {
   "cell_type": "code",
   "execution_count": null,
   "id": "a2d88708",
   "metadata": {},
   "outputs": [],
   "source": [
    "input_annotation_file = 'data/dataset_measured_heads_filtered.csv'\n",
    "df_crm = pd.read_csv(input_annotation_file, header=0,)\n",
    "df_crm['Adjusted TMT by head crm'] = df_crm['TMT PRED AVG filtered']/df_crm['perimeter_opencv']\n",
    "df_crm=df_crm[df_crm[\"Age\"]<35]"
   ]
  },
  {
   "cell_type": "code",
   "execution_count": null,
   "id": "a91f90b1",
   "metadata": {},
   "outputs": [],
   "source": [
    "#plot general\n",
    "sns.set(rc={'figure.figsize':(16.7,6.27),'axes.facecolor':'white', 'figure.facecolor':'white'})\n",
    "sns.set_style(\"whitegrid\")\n",
    "df_crm['Sex'] =df_crm['Gender'].map({2:'Female',1:'Male'})\n",
    "sns.boxplot(x=\"Age\", y=\"Adjusted TMT by head crm\", hue=\"Sex\", data=df_crm, showfliers=False,\n",
    "            palette=\"colorblind\", width=0.5).set_title(\"Adjusted TMT by head crm n=\"+str(df_crm.shape[0]))\n",
    "plt.savefig('data/abcd_plots/crm.png', dpi=300)"
   ]
  },
  {
   "cell_type": "code",
   "execution_count": null,
   "id": "8b5e538e",
   "metadata": {},
   "outputs": [],
   "source": [
    "from scipy.stats import pearsonr\n",
    "corr, _ = pearsonr(df_crm['TMT PRED AVG filtered'], df_crm['perimeter_opencv'])\n",
    "print('Pearsons correlation: %.3f' % corr)\n",
    "\n",
    "from scipy.stats import spearmanr\n",
    "corr, _ = spearmanr(df_crm['TMT PRED AVG filtered'], df_crm['perimeter_opencv'])\n",
    "print('Spearmans correlation: %.3f' % corr)"
   ]
  },
  {
   "cell_type": "code",
   "execution_count": null,
   "id": "26d9ac59",
   "metadata": {},
   "outputs": [],
   "source": [
    "#plot general\n",
    "sns.set(rc={'figure.figsize':(16.7,6.27),'axes.facecolor':'white', 'figure.facecolor':'white'})\n",
    "sns.set_style(\"whitegrid\")\n",
    "df_crm['Sex'] = df_crm['Gender'].map({2:'Female',1:'Male'})\n",
    "sns.boxplot(x=\"Age\", y=\"perimeter_opencv\", hue=\"Sex\", data=df_crm, showfliers=False,\n",
    "            palette=\"colorblind\", width=0.5).set_title(\"Head perimeter (opencv) n=\"+str(df_crm.shape[0]))\n",
    "plt.savefig('data/abcd_plots/perimeter_opencv.png', dpi=300)"
   ]
  },
  {
   "cell_type": "code",
   "execution_count": null,
   "id": "49754442",
   "metadata": {},
   "outputs": [],
   "source": []
  }
 ],
 "metadata": {
  "kernelspec": {
   "display_name": "Python 3 (ipykernel)",
   "language": "python",
   "name": "python3"
  },
  "language_info": {
   "codemirror_mode": {
    "name": "ipython",
    "version": 3
   },
   "file_extension": ".py",
   "mimetype": "text/x-python",
   "name": "python",
   "nbconvert_exporter": "python",
   "pygments_lexer": "ipython3",
   "version": "3.9.13"
  }
 },
 "nbformat": 4,
 "nbformat_minor": 5
}
